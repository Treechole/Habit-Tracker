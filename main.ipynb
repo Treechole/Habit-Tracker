{
 "cells": [
  {
   "cell_type": "code",
   "execution_count": 25,
   "metadata": {},
   "outputs": [],
   "source": [
    "# Importing Modules\n",
    "\n",
    "import time, math, random\n",
    "import numpy as np\n",
    "# from multipledispatch import dispatch"
   ]
  },
  {
   "cell_type": "code",
   "execution_count": 2,
   "metadata": {},
   "outputs": [],
   "source": [
    "# Colours\n",
    "\n",
    "normal = \"\\033[0;37;48m\"\n",
    "yellow = \"\\033[0;33;48m\"\n",
    "\n",
    "orange = \"\\033[0;34;40m\"\n",
    "green = \"\\033[0;32;40m\"\n",
    "blue = \"\\033[0;35;40m\""
   ]
  },
  {
   "cell_type": "code",
   "execution_count": 3,
   "metadata": {},
   "outputs": [],
   "source": [
    "# Files for importing/exporting\n",
    "\n",
    "file_ID_storage = \"ID Storage.txt\"\n",
    "file_habits_info = \"Habits Info.txt\"\n",
    "file_logs = \"Logs.txt\""
   ]
  },
  {
   "cell_type": "code",
   "execution_count": 4,
   "metadata": {},
   "outputs": [],
   "source": [
    "# Global Variables\n",
    "\n",
    "weight_limit = 5\n",
    "\n",
    "colour_classifier = \"\\033\"\n",
    "colour_length = len(normal)\n",
    "time_colour = yellow\n",
    "\n",
    "display_indentation = \"   \"\n",
    "days = [\"Mon\", \"Tue\", \"Wed\", \"Thu\", \"Fri\", \"Sat\", \"Sun\"]\n",
    "\n",
    "ID_length = 3"
   ]
  },
  {
   "cell_type": "code",
   "execution_count": 35,
   "metadata": {},
   "outputs": [],
   "source": [
    "# Mathematical functions\n",
    "\n",
    "def softmax(array):\n",
    "    np_array = np.array(array)\n",
    "    exponentiated_array = np.exp(np_array)\n",
    "    normalized_array = exponentiated_array / np.sum(exponentiated_array)\n",
    "\n",
    "    return list(normalized_array)"
   ]
  },
  {
   "cell_type": "code",
   "execution_count": 36,
   "metadata": {},
   "outputs": [],
   "source": [
    "# Stylization functions\n",
    "\n",
    "def remove_colour(message: str) -> str:\n",
    "    uncoloured_message = []\n",
    "\n",
    "    for word in message.split(\" \"):\n",
    "        if colour_classifier in word:\n",
    "            classifier_index = word.index(colour_classifier)\n",
    "            word = word[:classifier_index] + word[classifier_index + colour_length:]\n",
    "\n",
    "        uncoloured_message.append(word)\n",
    "\n",
    "    return \" \".join(uncoloured_message)\n",
    "\n",
    "def get_stylized_time() -> str:\n",
    "    current_time = time.strftime(\"%I:%M:%S %p  %d-%b-%Y\")\n",
    "    return f\"{time_colour}{current_time}{normal}\""
   ]
  },
  {
   "cell_type": "code",
   "execution_count": 37,
   "metadata": {},
   "outputs": [],
   "source": [
    "class Common_Functions:    \n",
    "    def stylized_name(self) -> str:\n",
    "        return f\"{self.colour} {self.name_prefix} {self.name} {normal}\"\n",
    "    \n",
    "    def log(self, message: str, display_message = True) -> None:\n",
    "        log_message = f\"({get_stylized_time()})  {self.stylized_name()}: {message}\\n\"\n",
    "\n",
    "        with open(file_logs, \"a\", encoding = 'utf-8') as file:\n",
    "            file.write(remove_colour(log_message))\n",
    "\n",
    "        if display_message:\n",
    "            print(log_message)\n",
    "\n",
    "    def log_error(self, error_type, error_message: str) -> None:\n",
    "        self.log(error_message, False)\n",
    "        raise error_type(error_message)"
   ]
  },
  {
   "cell_type": "code",
   "execution_count": 38,
   "metadata": {},
   "outputs": [],
   "source": [
    "class Habit(Common_Functions):\n",
    "    def __init__(self, name: str, weight: float, repeat_days: list | tuple) -> None:\n",
    "        self.name = name\n",
    "        self.weight = weight\n",
    "        self.category = None\n",
    "        self.repeat_days = repeat_days\n",
    "        \n",
    "        self.name_prefix = \"#\"\n",
    "        self.colour = blue\n",
    "\n",
    "        self.set_name(name, False)\n",
    "        self.set_weight(weight, False)\n",
    "        self.set_repeat_days(repeat_days, False)\n",
    "\n",
    "        self.log(f\"Made {self.stylized_name()}\")\n",
    "\n",
    "    def set_name(self, name: str, record_log = True) -> None:\n",
    "        raise_error = False\n",
    "        if not (self.category is None):\n",
    "            raise_error = self.category.habit_exists(name)\n",
    "\n",
    "        if raise_error:\n",
    "            self.log_error(ValueError, f\"A habit with the name \\\"{name}\\\" already exists!\")\n",
    "\n",
    "        self.name = name\n",
    "\n",
    "        if record_log:\n",
    "            self.log(f\"Modified {self.stylized_name()}'s name\")\n",
    "\n",
    "    def set_weight(self, weight: float, record_log = True) -> None:\n",
    "        if weight > weight_limit:\n",
    "            self.log_error(ValueError, f\"Weights can't have a value greater than {weight_limit}!\")\n",
    "        \n",
    "        self.weight = weight\n",
    "\n",
    "        if record_log:\n",
    "            self.log(f\"Modified {self.stylized_name()}'s weight\")\n",
    "\n",
    "    def set_category(self, category):\n",
    "        self.category = category\n",
    "\n",
    "    def set_repeat_days(self, selected_days: list | tuple, record_log = True) -> None:\n",
    "        selected_days = [days[index - 1] for index in selected_days]\n",
    "        self.repeat_days = selected_days\n",
    "\n",
    "        self.log(f\"Modified the repeat days\", record_log)"
   ]
  },
  {
   "cell_type": "code",
   "execution_count": 39,
   "metadata": {},
   "outputs": [],
   "source": [
    "class Habit_List(Common_Functions):\n",
    "    def __init__(self, name: str) -> None:\n",
    "        self.name = name\n",
    "        self.habits = []\n",
    "\n",
    "        self.name_prefix = \">\"\n",
    "        self.colour = green\n",
    "\n",
    "        self.log(f\"Made {self.stylized_name()}\")\n",
    "\n",
    "    def net_weight(self) -> float:\n",
    "        return sum(list(map(lambda habit: habit.weight, self.habits)))\n",
    "    \n",
    "    def display_habits(self) -> None:\n",
    "        print(self.stylized_name())\n",
    "\n",
    "        for index, habit in enumerate(self.habits):\n",
    "            print(f\"{display_indentation}{index + 1}. {habit.stylized_name()}\")\n",
    "\n",
    "    def habit_exists(self, name: str):\n",
    "        exists = False\n",
    "        if self.name == name:\n",
    "                exists = True\n",
    "\n",
    "        for habit in self.habits:\n",
    "            if habit.name == name:\n",
    "                exists = True\n",
    "                break\n",
    "\n",
    "        return exists\n",
    "\n",
    "    def add_habit(self, habit: Habit) -> None:\n",
    "        if self.habit_exists(habit.name):\n",
    "            self.log_error(ValueError, f\"A habit with the name \\\"{habit.name}\\\" already exists in this list!\")\n",
    "\n",
    "        self.habits.append(habit)\n",
    "        habit.set_category(self)\n",
    "\n",
    "        self.log(f\"Added {habit.stylized_name()}\")\n",
    "\n",
    "    def delete_habit(self, name: str):\n",
    "        required_habit = self.get_habit_from_name(name)\n",
    "        self.habits.remove(required_habit)\n",
    "        self.log(f\"Deleted {required_habit.stylized_name()}\")\n",
    "\n",
    "    def get_habit_from_name(self, name: str):\n",
    "        required_habit = None\n",
    "        for habit in self.habits:\n",
    "            if habit.name == name:\n",
    "                required_habit = habit\n",
    "                break\n",
    "\n",
    "        if required_habit is None:\n",
    "            self.log_error(ValueError, f\"No habit with the name \\\"{name}\\\" exists in this list!\")\n",
    "        \n",
    "        self.log(f\"Extracted {required_habit.stylized_name()}\", False)\n",
    "        return required_habit\n",
    "\n",
    "    def swap(self, habit_1_index: int, habit_2_index: int) -> None:\n",
    "        self.habits[habit_1_index], self.habits[habit_2_index] = self.habits[habit_2_index], self.habits[habit_1_index]\n",
    "        self.log(f\"Swaped the order of {self.habits[habit_2_index].stylized_name()} and {self.habits[habit_1_index].stylized_name()}\")\n",
    "\n",
    "    def change_position(self, habit_index: int, to_index: int) -> None:\n",
    "        habit = self.habits.pop(habit_index - 1)\n",
    "        self.habits.insert(to_index - 1, habit)\n",
    "\n",
    "        self.log(f\"Shifted {habit.stylized_name()} to Position {to_index}\")\n",
    "\n",
    "    def export_habits(self) -> None:\n",
    "        with open(file_habits_info, \"w\", encoding = 'utf-8') as file:\n",
    "            contents = []\n",
    "            for habit in self.habits:\n",
    "                export_format = list(map(str, [habit.category.name, habit.name, habit.weight]))\n",
    "                contents.append(\",\".join(export_format) + \"\\n\")\n",
    "\n",
    "            file.writelines(contents)"
   ]
  },
  {
   "cell_type": "code",
   "execution_count": 41,
   "metadata": {},
   "outputs": [
    {
     "name": "stdout",
     "output_type": "stream",
     "text": [
      "(\u001b[0;33;48m11:01:09 PM  22-Jul-2024\u001b[0;37;48m)  \u001b[0;32;40m > Playing 🏃‍♂️ \u001b[0;37;48m: Made \u001b[0;32;40m > Playing 🏃‍♂️ \u001b[0;37;48m\n",
      "\n",
      "(\u001b[0;33;48m11:01:09 PM  22-Jul-2024\u001b[0;37;48m)  \u001b[0;35;40m # Table Tennis 🏓 \u001b[0;37;48m: Made \u001b[0;35;40m # Table Tennis 🏓 \u001b[0;37;48m\n",
      "\n",
      "(\u001b[0;33;48m11:01:09 PM  22-Jul-2024\u001b[0;37;48m)  \u001b[0;35;40m # Basketball 🏀 \u001b[0;37;48m: Made \u001b[0;35;40m # Basketball 🏀 \u001b[0;37;48m\n",
      "\n",
      "(\u001b[0;33;48m11:01:09 PM  22-Jul-2024\u001b[0;37;48m)  \u001b[0;35;40m # Chess ♟️ \u001b[0;37;48m: Made \u001b[0;35;40m # Chess ♟️ \u001b[0;37;48m\n",
      "\n",
      "(\u001b[0;33;48m11:01:09 PM  22-Jul-2024\u001b[0;37;48m)  \u001b[0;35;40m # Badminton 🏸 \u001b[0;37;48m: Made \u001b[0;35;40m # Badminton 🏸 \u001b[0;37;48m\n",
      "\n",
      "(\u001b[0;33;48m11:01:09 PM  22-Jul-2024\u001b[0;37;48m)  \u001b[0;32;40m > Playing 🏃‍♂️ \u001b[0;37;48m: Added \u001b[0;35;40m # Table Tennis 🏓 \u001b[0;37;48m\n",
      "\n",
      "(\u001b[0;33;48m11:01:09 PM  22-Jul-2024\u001b[0;37;48m)  \u001b[0;32;40m > Playing 🏃‍♂️ \u001b[0;37;48m: Added \u001b[0;35;40m # Basketball 🏀 \u001b[0;37;48m\n",
      "\n",
      "(\u001b[0;33;48m11:01:09 PM  22-Jul-2024\u001b[0;37;48m)  \u001b[0;32;40m > Playing 🏃‍♂️ \u001b[0;37;48m: Added \u001b[0;35;40m # Chess ♟️ \u001b[0;37;48m\n",
      "\n",
      "(\u001b[0;33;48m11:01:09 PM  22-Jul-2024\u001b[0;37;48m)  \u001b[0;32;40m > Playing 🏃‍♂️ \u001b[0;37;48m: Added \u001b[0;35;40m # Badminton 🏸 \u001b[0;37;48m\n",
      "\n"
     ]
    }
   ],
   "source": [
    "playing = Habit_List(\"Playing 🏃‍♂️\")\n",
    "\n",
    "habits = [Habit(\"Table Tennis 🏓\", 2, [1,3,5,7]),\n",
    "          Habit(\"Basketball 🏀\", 3, [2,6]),\n",
    "          Habit(\"Chess ♟️\", 3.5, [1,2,3,4,5]),\n",
    "          Habit(\"Badminton 🏸\", 2.5, [4,6,7])]\n",
    "\n",
    "for habit in habits:\n",
    "    playing.add_habit(habit)"
   ]
  },
  {
   "cell_type": "code",
   "execution_count": 42,
   "metadata": {},
   "outputs": [
    {
     "name": "stdout",
     "output_type": "stream",
     "text": [
      "\u001b[0;32;40m > Playing 🏃‍♂️ \u001b[0;37;48m\n",
      "   1. \u001b[0;35;40m # Table Tennis 🏓 \u001b[0;37;48m\n",
      "   2. \u001b[0;35;40m # Basketball 🏀 \u001b[0;37;48m\n",
      "   3. \u001b[0;35;40m # Chess ♟️ \u001b[0;37;48m\n",
      "   4. \u001b[0;35;40m # Badminton 🏸 \u001b[0;37;48m\n"
     ]
    }
   ],
   "source": [
    "playing.display_habits()"
   ]
  },
  {
   "cell_type": "code",
   "execution_count": 43,
   "metadata": {},
   "outputs": [],
   "source": [
    "playing.export_habits()"
   ]
  },
  {
   "cell_type": "code",
   "execution_count": 68,
   "metadata": {},
   "outputs": [],
   "source": [
    "class Habit_Tracker(Common_Functions):\n",
    "    def __init__(self, category: Habit_List) -> None:\n",
    "        self.name = \"Habit Tracker 📅\"\n",
    "        self.habits_today = {}\n",
    "        self.category = category\n",
    "\n",
    "        self.name_prefix = \"~\"\n",
    "        self.colour = orange\n",
    "\n",
    "        self.log(f\"Made {self.stylized_name()}\")\n",
    "\n",
    "    def get_habit_from_name(self, name: str):\n",
    "        required_habit = None\n",
    "        for habit in list(self.habits_today.keys()):\n",
    "            if habit.name == name:\n",
    "                required_habit = habit\n",
    "                break\n",
    "\n",
    "        if required_habit is None:\n",
    "            self.log_error(ValueError, f\"No habit with the name \\\"{name}\\\" is present in today's habits!\")\n",
    "        \n",
    "        self.log(f\"Extracted {required_habit.stylized_name()}\", False)\n",
    "        return required_habit\n",
    "\n",
    "    def generate_today(self) -> None:\n",
    "        day = time.strftime(\"%a\")\n",
    "        habits_today = {}\n",
    "\n",
    "        for habit in self.category.habits:\n",
    "            if day in habit.repeat_days:\n",
    "                habits_today.update({habit : 0})\n",
    "\n",
    "        self.habits_today = habits_today\n",
    "        self.log(f\"Generated today's habits\")\n",
    "\n",
    "    def completed_habit(self, name: str) -> None:\n",
    "        habit = self.get_habit_from_name(name)\n",
    "        self.habits_today[habit] = 1\n",
    "\n",
    "        self.log(f\"Completed {habit.stylized_name()}\")\n",
    "        \n",
    "    \n",
    "    def progress(self) -> float:\n",
    "        habit_weights = list(map(lambda habit: habit.weight, self.habits_today.keys()))\n",
    "        habit_status = np.array(list(self.habits_today.values()))\n",
    "\n",
    "        softmaxed_weights = np.array(softmax(habit_weights))\n",
    "        \n",
    "        return round((np.sum(softmaxed_weights[habit_status == 1]) / np.sum(softmaxed_weights)) * 100, 2)\n",
    "    \n",
    "    def display_habits_today(self) -> None:\n",
    "        print(f\"{self.stylized_name()} Today {self.name_prefix}\")\n",
    "        for index, habit in enumerate(list(self.habits_today.keys())):\n",
    "            print(f\"{display_indentation}{index + 1}. {habit.stylized_name()} - {habit.weight} - {self.habits_today[habit]}\")\n",
    "\n",
    "        print(f\"\\n{time_colour}Progress:{normal} {self.progress()}\")"
   ]
  },
  {
   "cell_type": "code",
   "execution_count": 69,
   "metadata": {},
   "outputs": [
    {
     "name": "stdout",
     "output_type": "stream",
     "text": [
      "(\u001b[0;33;48m11:08:17 PM  22-Jul-2024\u001b[0;37;48m)  \u001b[0;34;40m ~ Habit Tracker 📅 \u001b[0;37;48m: Made \u001b[0;34;40m ~ Habit Tracker 📅 \u001b[0;37;48m\n",
      "\n",
      "(\u001b[0;33;48m11:08:17 PM  22-Jul-2024\u001b[0;37;48m)  \u001b[0;34;40m ~ Habit Tracker 📅 \u001b[0;37;48m: Generated today's habits\n",
      "\n"
     ]
    }
   ],
   "source": [
    "habit_track = Habit_Tracker(playing)\n",
    "habit_track.generate_today()"
   ]
  },
  {
   "cell_type": "code",
   "execution_count": 70,
   "metadata": {},
   "outputs": [
    {
     "name": "stdout",
     "output_type": "stream",
     "text": [
      "(\u001b[0;33;48m11:08:17 PM  22-Jul-2024\u001b[0;37;48m)  \u001b[0;34;40m ~ Habit Tracker 📅 \u001b[0;37;48m: Completed \u001b[0;35;40m # Chess ♟️ \u001b[0;37;48m\n",
      "\n"
     ]
    }
   ],
   "source": [
    "habit_track.completed_habit(\"Chess ♟️\")"
   ]
  },
  {
   "cell_type": "code",
   "execution_count": 71,
   "metadata": {},
   "outputs": [
    {
     "name": "stdout",
     "output_type": "stream",
     "text": [
      "\u001b[0;34;40m ~ Habit Tracker 📅 \u001b[0;37;48m Today ~\n",
      "   1. \u001b[0;35;40m # Table Tennis 🏓 \u001b[0;37;48m - 2 - 0\n",
      "   2. \u001b[0;35;40m # Chess ♟️ \u001b[0;37;48m - 3.5 - 1\n",
      "\n",
      "\u001b[0;33;48mProgress:\u001b[0;37;48m 81.76\n"
     ]
    }
   ],
   "source": [
    "habit_track.display_habits_today()"
   ]
  },
  {
   "cell_type": "code",
   "execution_count": 72,
   "metadata": {},
   "outputs": [
    {
     "data": {
      "text/plain": [
       "81.76"
      ]
     },
     "execution_count": 72,
     "metadata": {},
     "output_type": "execute_result"
    }
   ],
   "source": [
    "habit_track.progress()"
   ]
  },
  {
   "cell_type": "code",
   "execution_count": 24,
   "metadata": {},
   "outputs": [
    {
     "data": {
      "text/plain": [
       "6785"
      ]
     },
     "execution_count": 24,
     "metadata": {},
     "output_type": "execute_result"
    }
   ],
   "source": [
    "# Goal - Track dates with respect to their habits\n",
    "\n",
    "def generate_random_ID() -> int:\n",
    "    with open(file_ID_storage, \"r\") as file:\n",
    "        extracted_IDs = file.readlines()\n",
    "        used_IDs = list(map(lambda id: int(id.removesuffix(\"\\n\")), extracted_IDs))\n",
    "\n",
    "    while True:\n",
    "        generated_ID = round((random.random() * (10 ** ID_length)), 0)\n",
    "        if not (generated_ID in used_IDs):\n",
    "            break\n",
    "\n",
    "    return int(generated_ID)\n",
    "\n",
    "generate_random_ID()"
   ]
  },
  {
   "cell_type": "code",
   "execution_count": null,
   "metadata": {},
   "outputs": [],
   "source": []
  }
 ],
 "metadata": {
  "kernelspec": {
   "display_name": "Python 3",
   "language": "python",
   "name": "python3"
  },
  "language_info": {
   "codemirror_mode": {
    "name": "ipython",
    "version": 3
   },
   "file_extension": ".py",
   "mimetype": "text/x-python",
   "name": "python",
   "nbconvert_exporter": "python",
   "pygments_lexer": "ipython3",
   "version": "3.11.9"
  }
 },
 "nbformat": 4,
 "nbformat_minor": 2
}
