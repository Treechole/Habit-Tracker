{
 "cells": [
  {
   "cell_type": "markdown",
   "metadata": {},
   "source": [
    "### Future-Features\n",
    "- [ ] Make a provision for self completion status and parent completion status; \n",
    "   If parent is completed - whole subtask is completed; \n",
    "   But if user sets the parent task uncomplete afterwards, set the completion status to what was self completion status; \n",
    "   Use the OR function between the self and parent completion status to achieve this.\n",
    "\n",
    "- [ ] Add a `progress` meter that increases with subtask completion\n",
    "\n",
    "- [ ] Add `Repeats` class provisionality\n",
    "\n",
    "- [ ] Implement `Deadlines` class properly"
   ]
  },
  {
   "cell_type": "code",
   "execution_count": 1,
   "metadata": {},
   "outputs": [],
   "source": [
    "# Imports\n",
    "\n",
    "import time, math\n",
    "import numpy as np\n",
    "from enum import Enum, auto"
   ]
  },
  {
   "cell_type": "code",
   "execution_count": 2,
   "metadata": {},
   "outputs": [],
   "source": [
    "# Global Variables\n",
    "\n",
    "max_weight = 5\n",
    "\n",
    "file_logs = \"Logs.txt\"\n",
    "\n",
    "class Deadlines(Enum):\n",
    "    no_deadline = auto()\n",
    "    date_deadline = auto()\n",
    "    duration_deadline = auto()\n",
    "\n",
    "# Removed time_deadline\n",
    "# Shifted repeat_deadline to be its own thing independent of Deadlines - thus utilizing Repeats class\n",
    "\n",
    "class Repeats(Enum):\n",
    "    endless = auto()\n",
    "    till_date = auto()\n",
    "    repeat_count = auto()"
   ]
  },
  {
   "cell_type": "code",
   "execution_count": 3,
   "metadata": {},
   "outputs": [],
   "source": [
    "class Common_Functions:\n",
    "    def log(self, message: str, display: bool) -> None:\n",
    "        timestamp = time.strftime(\"%I:%M:%S %p, %d %b %Y\")\n",
    "        log_message = f\"({timestamp}) {self.name}: {message}\"\n",
    "\n",
    "        with open(file_logs, \"a\") as file:\n",
    "            file.write(log_message)\n",
    "\n",
    "        if display:\n",
    "            print(log_message)\n",
    "\n",
    "    def log_error(self, error_type, error_message: str) -> None:\n",
    "        self.log(error_message, False)\n",
    "        raise error_type(error_message)"
   ]
  },
  {
   "cell_type": "code",
   "execution_count": 15,
   "metadata": {},
   "outputs": [],
   "source": [
    "class Task(Common_Functions):\n",
    "    '''\n",
    "    Instantiate a new `Task` by provding its to-do title.\n",
    "    ### Required Parameters\n",
    "    `name`: Set the work-title you have to do\n",
    "\n",
    "    ### Additional Parameters\n",
    "    `details` (_str_): Add a description of the task you are doing\n",
    "    `weight` (_float_): Add a *relative* priority value to the task from a range of values\n",
    "    `deadline_type` (_Deadlines_): \n",
    "    '''\n",
    "    task_number = 1 # Used to make the ID of the current task\n",
    "    tasks_generated = 1 # Stores the number of tasks ever generated\n",
    "    tasks_done = 0 # Stores the number of tasks ever done\n",
    "\n",
    "    def __init__(self, name) -> None:\n",
    "        self.name = name\n",
    "        self.ID = self.task_number\n",
    "        self.details = \"\"\n",
    "        self.weight = 1\n",
    "        self.deadline_type = Deadlines.no_deadline\n",
    "        self.completed = False\n",
    "\n",
    "        self.parent = None\n",
    "        self.subtasks = np.array([])\n",
    "\n",
    "        Task.task_number += 1\n",
    "        Task.tasks_generated += 1\n",
    "\n",
    "        self.log(f\"Instantiated the task\")\n",
    "\n",
    "    def set_description(self, details: str) -> None:\n",
    "        self.details = details\n",
    "        self.log(f\"Modified description\")\n",
    "\n",
    "    def set_priority(self, weight: float) -> None:\n",
    "        if self.weight > max_weight:\n",
    "            self.log_error(ValueError, f\"Weight can't be greater than {max_weight}!\")\n",
    "\n",
    "        self.weight = weight\n",
    "        self.log(\"Modified Weight\")\n",
    "\n",
    "    def set_deadline(self, deadline_type, deadline_info) -> None:\n",
    "        match deadline_type:\n",
    "            case Deadlines.date_deadline.value:\n",
    "                self.deadline_type = Deadlines.date_deadline\n",
    "            case Deadlines.time_deadline.value:\n",
    "                self.deadline_type = Deadlines.time_deadline\n",
    "            case Deadlines.duration_deadline.value:\n",
    "                self.deadline_type = Deadlines.duration_deadline\n",
    "            case Deadlines.repeat_deadline.value:\n",
    "                self.deadline_type = Deadlines.date_deadline\n",
    "            case _:\n",
    "                self.deadline_type = Deadlines.no_deadline\n",
    "\n",
    "    def add_subtask(self, subtask_name: str) -> None:\n",
    "        new_subtask = Task(subtask_name)\n",
    "        self.set_subtask(new_subtask)\n",
    "\n",
    "    def set_subtask(self, subtask) -> None:\n",
    "        if not isinstance(subtask, Task):\n",
    "            self.log_error(TypeError, f\"Can't make a non-Task object as sub-task!\")\n",
    "\n",
    "        self.subtasks = self.subtasks.append(self.subtasks, subtask)\n",
    "        self.log(f\"Added {subtask.name} as a subtask\")\n",
    "\n",
    "        subtask.parent = self\n",
    "        subtask.log(f\"Set {self.name} as a parent\")\n",
    "\n",
    "    def set_completion_status(self, status: bool) -> None:\n",
    "        if not isinstance(status, bool):\n",
    "            self.log_error(ValueError, f\"Can't set the completion status to {status}! (should be True/False)\")\n",
    "        \n",
    "        previous_status = self.completed\n",
    "        self.completed = status\n",
    "        self.log(f\"Set completion status to {status}\")\n",
    "\n",
    "        # Set subtasks to complete automatically as well\n",
    "        if previous_status ^ status and self.subtasks.size != 0:\n",
    "            batch_complete_subtasks = np.vectorize(lambda subtask: subtask.set_completion_status(status))\n",
    "            completion = batch_complete_subtasks(self.subtasks)\n",
    "            self.log(f\"Set all subtask's completion status to {status}\")\n",
    "        \n",
    "        # Check if parent's all substasks are completed\n",
    "        if (not (self.parent is None)) and self.parent.check_subtasks_completion():\n",
    "            self.parent.set_completion_status(True)\n",
    "            self.parent.log(f\"Set completion status to True (all subtasks are completed)\")\n",
    "\n",
    "    def check_subtasks_completion(self) -> bool:\n",
    "        if self.subtasks.size == 0:\n",
    "            return False\n",
    "        \n",
    "        # \"Vectorizes\" the function which returns the completion status of subtasks\n",
    "        # \"Vectorization\" of a function means that it can input an array of scalar instead of one scalar as usual (and thus outputs an array of scalars) \n",
    "        get_subtask_status = np.vectorize(lambda task: task.completed) # A function\n",
    "        subtask_completions = get_subtask_status(self.subtasks)\n",
    "\n",
    "        return True if np.all(subtask_completions == True) else False"
   ]
  },
  {
   "cell_type": "markdown",
   "metadata": {},
   "source": [
    "#### Testing classes and functioning of production-code"
   ]
  },
  {
   "cell_type": "code",
   "execution_count": 8,
   "metadata": {},
   "outputs": [
    {
     "name": "stdout",
     "output_type": "stream",
     "text": [
      "1\n",
      "3\n"
     ]
    },
    {
     "data": {
      "text/plain": [
       "<Deadlines.no_deadline: 1>"
      ]
     },
     "execution_count": 8,
     "metadata": {},
     "output_type": "execute_result"
    }
   ],
   "source": [
    "task1 = Task(\"Complete CS201 Quiz 1\")\n",
    "print(task1.ID)\n",
    "task1.ID = 3\n",
    "print(task1.ID)\n",
    "task1.deadline_type"
   ]
  },
  {
   "cell_type": "code",
   "execution_count": 9,
   "metadata": {},
   "outputs": [
    {
     "name": "stdout",
     "output_type": "stream",
     "text": [
      "2\n",
      "2\n",
      "2\n"
     ]
    }
   ],
   "source": [
    "task2 = Task(\"Go to Class - HS201\")\n",
    "print(task2.ID)\n",
    "task1.ID = 10\n",
    "print(task2.ID)\n",
    "Task.ID = 1\n",
    "print(task2.ID)"
   ]
  },
  {
   "cell_type": "markdown",
   "metadata": {},
   "source": [
    "#### Testing Modules and Functions for implementation"
   ]
  },
  {
   "cell_type": "code",
   "execution_count": 10,
   "metadata": {},
   "outputs": [],
   "source": [
    "class Point:\n",
    "    def __init__(self, x, y) -> None:\n",
    "        self.x = x\n",
    "        self.y = y\n",
    "\n",
    "    def __repr__(self) -> str:\n",
    "       return f\"{self.__class__.__name__}({self.x}, {self.y})\"\n",
    "    \n",
    "    def scale(self, factor: int | float):\n",
    "        # print(not isinstance(factor, int), not isinstance(factor, float))\n",
    "        # if (not isinstance(factor, int)) or (not isinstance(factor, float)):\n",
    "        #     print(\"Can't scale a point by non-number quantity!\")\n",
    "        #     return None\n",
    "\n",
    "        return Point(self.x * factor, self.y * factor)"
   ]
  },
  {
   "cell_type": "code",
   "execution_count": 11,
   "metadata": {},
   "outputs": [
    {
     "data": {
      "text/plain": [
       "Point(11, 111)"
      ]
     },
     "execution_count": 11,
     "metadata": {},
     "output_type": "execute_result"
    }
   ],
   "source": [
    "p1 = Point(2, 3)\n",
    "p1.scale(\"1\")"
   ]
  },
  {
   "cell_type": "code",
   "execution_count": 12,
   "metadata": {},
   "outputs": [
    {
     "name": "stdout",
     "output_type": "stream",
     "text": [
      "False\n",
      "True\n",
      "True\n",
      "False\n"
     ]
    }
   ],
   "source": [
    "print(True ^ True) # False\n",
    "print(True ^ False) # True\n",
    "print(False ^ True) # True\n",
    "print(False ^ False) # False"
   ]
  },
  {
   "cell_type": "code",
   "execution_count": null,
   "metadata": {},
   "outputs": [],
   "source": []
  }
 ],
 "metadata": {
  "kernelspec": {
   "display_name": "Python 3",
   "language": "python",
   "name": "python3"
  },
  "language_info": {
   "codemirror_mode": {
    "name": "ipython",
    "version": 3
   },
   "file_extension": ".py",
   "mimetype": "text/x-python",
   "name": "python",
   "nbconvert_exporter": "python",
   "pygments_lexer": "ipython3",
   "version": "3.12.4"
  }
 },
 "nbformat": 4,
 "nbformat_minor": 2
}
