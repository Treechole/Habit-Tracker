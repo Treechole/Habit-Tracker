{
 "cells": [
  {
   "cell_type": "markdown",
   "metadata": {},
   "source": [
    "### Future-Features\n",
    "- [ ] Make a provision for self completion status and parent completion status<br>\n",
    "   <font size = \"2\">If parent is completed - whole subtask is completed, but if user sets the parent task uncomplete afterwards, set the completion status to what was self completion status<br>\n",
    "   Use the OR function between the self and parent completion status to achieve this. </font>\n",
    "\n",
    "- [ ] Add `Repeats` class provisionality\n",
    "\n",
    "- [ ] Implement `Deadlines` class properlyz"
   ]
  },
  {
   "cell_type": "code",
   "execution_count": 4,
   "metadata": {},
   "outputs": [],
   "source": [
    "# Imports\n",
    "\n",
    "import time, math\n",
    "import numpy as np\n",
    "from enum import Enum, auto"
   ]
  },
  {
   "cell_type": "code",
   "execution_count": 5,
   "metadata": {},
   "outputs": [],
   "source": [
    "# Functions for ProgressMetric objects\n",
    "\n",
    "get_weights = np.vectorize(lambda task: task.weight)\n",
    "\n",
    "def average(tasks):\n",
    "    return np.mean(get_weights(tasks))\n",
    "\n",
    "def softmax(tasks):\n",
    "    exponentiated_weights = np.exp(get_weights(tasks))\n",
    "    return exponentiated_weights / np.sum(exponentiated_weights)\n",
    "\n",
    "def logarithmic_mean(tasks):\n",
    "    logarithmic_weights = np.log(get_weights(tasks))\n",
    "    return logarithmic_weights / np.sum(logarithmic_weights)"
   ]
  },
  {
   "cell_type": "code",
   "execution_count": 6,
   "metadata": {},
   "outputs": [],
   "source": [
    "# Global Variables\n",
    "\n",
    "min_weight = 0\n",
    "max_weight = 5\n",
    "\n",
    "file_logs = \"Logs.txt\"\n",
    "\n",
    "class Deadlines(Enum):\n",
    "    no_deadline = auto()\n",
    "    date_deadline = auto()\n",
    "    duration_deadline = auto()\n",
    "\n",
    "# Removed time_deadline\n",
    "# Shifted repeat_deadline to be its own thing independent of Deadlines - thus utilizing Repeats class\n",
    "\n",
    "class Repeats(Enum):\n",
    "    endless = auto()\n",
    "    till_date = auto()\n",
    "    repeat_count = auto()\n",
    "\n",
    "class ProgressMetric(Enum):\n",
    "    linear = average\n",
    "    exponential = softmax\n",
    "    logarithmic = logarithmic_mean\n",
    "    "
   ]
  },
  {
   "cell_type": "code",
   "execution_count": 7,
   "metadata": {},
   "outputs": [],
   "source": [
    "class Common_Functions:\n",
    "    def log(self, message: str, display: bool = True) -> None:\n",
    "        timestamp = time.strftime(\"%I:%M:%S %p, %d %b %Y\")\n",
    "        log_message = f\"({timestamp}) {self.name}: {message}\\n\"\n",
    "\n",
    "        with open(file_logs, \"a\") as file:\n",
    "            file.write(log_message)\n",
    "\n",
    "        if display:\n",
    "            print(log_message)\n",
    "\n",
    "    def log_error(self, error_type, error_message: str) -> None:\n",
    "        self.log(error_message, False)\n",
    "        raise error_type(error_message)"
   ]
  },
  {
   "cell_type": "code",
   "execution_count": 8,
   "metadata": {},
   "outputs": [],
   "source": [
    "class Task(Common_Functions):\n",
    "    '''\n",
    "    Instantiate a new `Task` by provding its to-do title.\n",
    "    ### Required Parameters\n",
    "    - `name`: Set the work-title you have to do\n",
    "\n",
    "    ### Additional Parameters\n",
    "    - `details` (`str`) - Add a description of the task you are doing<br>\n",
    "    - `weight` (`float`) - Add a *relative* priority value to the task from a range of values<br>\n",
    "    - `deadline_type` (`Deadlines`) - Add a deadline to your task<br>\n",
    "    &ensp;&ensp;&ensp;- `no _dealine` - no deadline for the task<br>\n",
    "    &ensp;&ensp;&ensp;- `date_deadline` - set a date for when the task is due<br>\n",
    "    &nbsp;&ensp;&ensp;- `duration_deadline` - set a duration in which the task is to be performed<br>\n",
    "    - `completed` (`bool`) - Tells whether the task is completed or not<br>\n",
    "    - `parent` (`Task`) - Sets the parent-task of the current task (doesn't implement this task becoming a subtask)<br>\n",
    "    - `subtasks` (`list(Task)`) - Stores all the subtasks of this task (doesn't implement their parent being current task)\n",
    "\n",
    "    ### Class Parameters\n",
    "    - `task_number` (`int`) - Used to make the ID of the current task\n",
    "    - `tasks_generated` (`int`) - Stores the number of tasks ever generated\n",
    "    - `tasks_done` (`int`) - Stores the number of tasks ever done\n",
    "    '''\n",
    "\n",
    "    task_number = 1\n",
    "    tasks_generated = 1\n",
    "    tasks_done = 0\n",
    "\n",
    "    def __init__(self, name) -> None:\n",
    "        self.name = name\n",
    "        self.ID = self.task_number\n",
    "        self.details = \"\"\n",
    "        self.weight = 1\n",
    "        self.deadline_type = Deadlines.no_deadline\n",
    "\n",
    "        self.completed = False\n",
    "        self.progress = 0\n",
    "        self.impact_calculator = ProgressMetric.linear\n",
    "\n",
    "        self.parent = None\n",
    "        self.subtasks = np.array([])\n",
    "\n",
    "        Task.task_number += 1\n",
    "        Task.tasks_generated += 1\n",
    "\n",
    "        self.log(f\"Instantiated the task\")\n",
    "\n",
    "    def set_description(self, details: str) -> None:\n",
    "        self.details = details\n",
    "        self.log(f\"Modified description\")\n",
    "\n",
    "    def set_priority(self, weight: float) -> None:\n",
    "        if self.weight < min_weight:\n",
    "            self.log_error(ValueError, f\"Weight can't be less than {min_weight}!\")\n",
    "\n",
    "        if self.weight > max_weight:\n",
    "            self.log_error(ValueError, f\"Weight can't be greater than {max_weight}!\")\n",
    "\n",
    "        self.weight = weight\n",
    "        self.log(\"Modified Weight\")\n",
    "\n",
    "    def set_deadline(self, deadline_type, deadline_info) -> None:\n",
    "        match deadline_type:\n",
    "            case Deadlines.date_deadline.value:\n",
    "                self.deadline_type = Deadlines.date_deadline\n",
    "            case Deadlines.time_deadline.value:\n",
    "                self.deadline_type = Deadlines.time_deadline\n",
    "            case Deadlines.duration_deadline.value:\n",
    "                self.deadline_type = Deadlines.duration_deadline\n",
    "            case Deadlines.repeat_deadline.value:\n",
    "                self.deadline_type = Deadlines.date_deadline\n",
    "            case _:\n",
    "                self.deadline_type = Deadlines.no_deadline\n",
    "\n",
    "    def has_subtasks(self) -> bool:\n",
    "        return self.subtasks.size != 0\n",
    "    \n",
    "    def has_parent(self) -> bool:\n",
    "        return True if self.parent is not None else False\n",
    "\n",
    "    def add_subtask(self, subtask_name: str) -> None:\n",
    "        new_subtask = Task(subtask_name)\n",
    "        self.set_subtask(new_subtask)\n",
    "\n",
    "    def set_subtask(self, subtask) -> None:\n",
    "        if not isinstance(subtask, Task):\n",
    "            self.log_error(TypeError, f\"Can't make a non-Task object as sub-task!\")\n",
    "\n",
    "        self.subtasks = self.subtasks.append(self.subtasks, subtask)\n",
    "        self.log(f\"Added {subtask.name} as a subtask\")\n",
    "\n",
    "        subtask.parent = self\n",
    "        subtask.log(f\"Set {self.name} as a parent\")\n",
    "\n",
    "    def set_completion_status(self, status: bool, parent_traversal: bool = True, subtask_traversal: bool = True) -> None:\n",
    "        if not isinstance(status, bool):\n",
    "            self.log_error(ValueError, f\"Can't set the completion status to {status}! (should be True/False)\")\n",
    "        \n",
    "        previous_status = self.completed\n",
    "        self.completed = status\n",
    "        self.log(f\"Set completion status to {status}\")\n",
    "\n",
    "        if previous_status ^ status:\n",
    "            Task.tasks_done += 2 * int(status) - 1\n",
    "\n",
    "            if self.has_subtasks() and subtask_traversal:\n",
    "                batch_complete_subtasks = np.vectorize(lambda subtask: subtask.set_completion_status(status, parent_traversal = False))\n",
    "                batch_complete_subtasks(self.subtasks)\n",
    "            \n",
    "            self.update_progress()\n",
    "\n",
    "            if self.has_parent() and parent_traversal:\n",
    "                batch_completion_status = np.vectorize(lambda subtask: subtask.completed) \n",
    "                subtasks_completed = np.all(batch_completion_status(self.parent.subtasks) == True)\n",
    "                self.parent.set_completion_status(subtasks_completed, subtask_traversal = False)\n",
    "    \n",
    "    def update_progress(self) -> None:\n",
    "        if self.has_subtasks():\n",
    "            task_weights = get_weights(self.subtasks)\n",
    "            subtask_impacts = self.impact_calculator(task_weights)\n",
    "\n",
    "            get_subtasks_status = np.vectorize(lambda task: task.completed)\n",
    "            self.progress = np.sum(subtask_impacts * get_subtasks_status(self.subtasks))\n",
    "        else:\n",
    "            self.progress = int(self.completed)\n",
    "\n",
    "        self.log(f\"Updated progress to {self.progress}\")\n"
   ]
  },
  {
   "cell_type": "markdown",
   "metadata": {},
   "source": [
    "#### Testing classes and functioning of production-code"
   ]
  },
  {
   "cell_type": "code",
   "execution_count": 31,
   "metadata": {},
   "outputs": [
    {
     "name": "stdout",
     "output_type": "stream",
     "text": [
      "(05:31:00 PM, 25 Jul 2024) Complete CS201 Quiz 1: Instantiated the task\n",
      "1\n",
      "3\n"
     ]
    },
    {
     "data": {
      "text/plain": [
       "<Deadlines.no_deadline: 1>"
      ]
     },
     "execution_count": 31,
     "metadata": {},
     "output_type": "execute_result"
    }
   ],
   "source": [
    "task1 = Task(\"Complete CS201 Quiz 1\")\n",
    "print(task1.ID)\n",
    "task1.ID = 3\n",
    "print(task1.ID)\n",
    "task1.deadline_type"
   ]
  },
  {
   "cell_type": "code",
   "execution_count": 32,
   "metadata": {},
   "outputs": [
    {
     "name": "stdout",
     "output_type": "stream",
     "text": [
      "(05:31:00 PM, 25 Jul 2024) Go to Class - HS201: Instantiated the task\n",
      "2\n",
      "2\n",
      "2\n"
     ]
    }
   ],
   "source": [
    "task2 = Task(\"Go to Class - HS201\")\n",
    "print(task2.ID)\n",
    "task1.ID = 10\n",
    "print(task2.ID)\n",
    "Task.ID = 1\n",
    "print(task2.ID)"
   ]
  },
  {
   "cell_type": "markdown",
   "metadata": {},
   "source": [
    "#### Testing Modules and Functions for implementation"
   ]
  },
  {
   "cell_type": "code",
   "execution_count": 33,
   "metadata": {},
   "outputs": [],
   "source": [
    "class Point:\n",
    "    def __init__(self, x, y) -> None:\n",
    "        self.x = x\n",
    "        self.y = y\n",
    "\n",
    "    def __repr__(self) -> str:\n",
    "       return f\"{self.__class__.__name__}({self.x}, {self.y})\"\n",
    "    \n",
    "    def scale(self, factor: int | float):\n",
    "        # print(not isinstance(factor, int), not isinstance(factor, float))\n",
    "        # if (not isinstance(factor, int)) or (not isinstance(factor, float)):\n",
    "        #     print(\"Can't scale a point by non-number quantity!\")\n",
    "        #     return None\n",
    "\n",
    "        return Point(self.x * factor, self.y * factor)"
   ]
  },
  {
   "cell_type": "code",
   "execution_count": 34,
   "metadata": {},
   "outputs": [
    {
     "data": {
      "text/plain": [
       "Point(11, 111)"
      ]
     },
     "execution_count": 34,
     "metadata": {},
     "output_type": "execute_result"
    }
   ],
   "source": [
    "p1 = Point(2, 3)\n",
    "p1.scale(\"1\")"
   ]
  },
  {
   "cell_type": "code",
   "execution_count": 16,
   "metadata": {},
   "outputs": [
    {
     "name": "stdout",
     "output_type": "stream",
     "text": [
      "False\n",
      "True\n",
      "True\n",
      "False\n",
      "0\n",
      "3\n",
      "1\n",
      "0\n"
     ]
    }
   ],
   "source": [
    "print(True ^ True) # False\n",
    "print(True ^ False) # True\n",
    "print(False ^ True) # True\n",
    "print(False ^ False) # False\n",
    "\n",
    "print(1 ^ 1) # 0\n",
    "print(1 ^ 2) # 1\n",
    "print(0 ^ 1) # 1\n",
    "print(0 ^ 0) # 0"
   ]
  },
  {
   "cell_type": "code",
   "execution_count": 1,
   "metadata": {},
   "outputs": [
    {
     "name": "stdout",
     "output_type": "stream",
     "text": [
      "1\n",
      "0\n"
     ]
    }
   ],
   "source": [
    "print(int(True))\n",
    "print(int(False))"
   ]
  },
  {
   "cell_type": "code",
   "execution_count": 13,
   "metadata": {},
   "outputs": [
    {
     "name": "stdout",
     "output_type": "stream",
     "text": [
      "[0.06666667 0.13333333 0.2        0.26666667 0.33333333]\n",
      "[0.06666667 0.         0.2        0.26666667 0.        ]\n",
      "1.0\n",
      "0.5333333333333333\n"
     ]
    }
   ],
   "source": [
    "arr = np.array([True, False, True, True, False])\n",
    "arr2 = (np.arange(len(arr)) + 1) / 15\n",
    "print(arr2)\n",
    "print(arr * arr2)\n",
    "\n",
    "print(sum(arr2))\n",
    "print(sum(arr * arr2))"
   ]
  },
  {
   "cell_type": "code",
   "execution_count": 19,
   "metadata": {},
   "outputs": [
    {
     "name": "stdout",
     "output_type": "stream",
     "text": [
      "[0.         0.01010101 0.02020202 0.03030303 0.04040404 0.05050505\n",
      " 0.06060606 0.07070707 0.08080808 0.09090909 0.1010101  0.11111111\n",
      " 0.12121212 0.13131313 0.14141414 0.15151515 0.16161616 0.17171717\n",
      " 0.18181818 0.19191919 0.2020202  0.21212121 0.22222222 0.23232323\n",
      " 0.24242424 0.25252525 0.26262626 0.27272727 0.28282828 0.29292929\n",
      " 0.3030303  0.31313131 0.32323232 0.33333333 0.34343434 0.35353535\n",
      " 0.36363636 0.37373737 0.38383838 0.39393939 0.4040404  0.41414141\n",
      " 0.42424242 0.43434343 0.44444444 0.45454545 0.46464646 0.47474747\n",
      " 0.48484848 0.49494949 0.50505051 0.51515152 0.52525253 0.53535354\n",
      " 0.54545455 0.55555556 0.56565657 0.57575758 0.58585859 0.5959596\n",
      " 0.60606061 0.61616162 0.62626263 0.63636364 0.64646465 0.65656566\n",
      " 0.66666667 0.67676768 0.68686869 0.6969697  0.70707071 0.71717172\n",
      " 0.72727273 0.73737374 0.74747475 0.75757576 0.76767677 0.77777778\n",
      " 0.78787879 0.7979798  0.80808081 0.81818182 0.82828283 0.83838384\n",
      " 0.84848485 0.85858586 0.86868687 0.87878788 0.88888889 0.8989899\n",
      " 0.90909091 0.91919192 0.92929293 0.93939394 0.94949495 0.95959596\n",
      " 0.96969697 0.97979798 0.98989899 1.        ]\n",
      "FalseFalseFalseFalseFalseFalseFalseFalseFalseFalseFalseFalseFalseFalseFalseFalseFalseFalseFalseFalseFalseFalseFalseFalseFalseFalseFalseFalseFalseFalseFalseFalseFalseFalseFalseFalseFalseFalseFalseFalseFalseFalseFalseFalseFalseFalseFalseFalseFalseFalseFalseFalseFalseFalseFalseFalseFalseFalseFalseFalseFalseFalseFalseFalseFalseFalseFalseFalseFalseFalseFalseFalseFalseFalseFalseFalseFalseFalseFalseFalseFalseFalseFalseFalseFalseFalseFalseFalseFalseFalseFalseFalseFalseFalseFalseFalseFalseFalseFalseTrue"
     ]
    }
   ],
   "source": [
    "a = np.linspace(0, 1, 100)\n",
    "print(a)\n",
    "\n",
    "for e in a:\n",
    "    print(bool(math.floor(e)), end = \"\")"
   ]
  },
  {
   "cell_type": "code",
   "execution_count": 20,
   "metadata": {},
   "outputs": [
    {
     "name": "stdout",
     "output_type": "stream",
     "text": [
      "True\n",
      "False\n",
      "False\n",
      "False\n"
     ]
    }
   ],
   "source": [
    "print(np.all([True, True]))\n",
    "print(np.all([True, False]))\n",
    "print(np.all([False, True]))\n",
    "print(np.all([False, False]))"
   ]
  },
  {
   "cell_type": "code",
   "execution_count": null,
   "metadata": {},
   "outputs": [],
   "source": []
  }
 ],
 "metadata": {
  "kernelspec": {
   "display_name": "Python 3",
   "language": "python",
   "name": "python3"
  },
  "language_info": {
   "codemirror_mode": {
    "name": "ipython",
    "version": 3
   },
   "file_extension": ".py",
   "mimetype": "text/x-python",
   "name": "python",
   "nbconvert_exporter": "python",
   "pygments_lexer": "ipython3",
   "version": "3.12.4"
  }
 },
 "nbformat": 4,
 "nbformat_minor": 2
}
